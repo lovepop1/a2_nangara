{
  "nbformat": 4,
  "nbformat_minor": 0,
  "metadata": {
    "colab": {
      "provenance": []
    },
    "kernelspec": {
      "name": "python3",
      "display_name": "Python 3"
    },
    "language_info": {
      "name": "python"
    }
  },
  "cells": [
    {
      "cell_type": "code",
      "source": [
        "# prompt: mount drive\n",
        "\n",
        "from google.colab import drive\n",
        "drive.mount('/content/drive')\n"
      ],
      "metadata": {
        "colab": {
          "base_uri": "https://localhost:8080/"
        },
        "id": "T2hDhmmTe24P",
        "outputId": "33743b0f-2079-4ea0-f8f8-4464713dbd3a"
      },
      "execution_count": null,
      "outputs": [
        {
          "output_type": "stream",
          "name": "stdout",
          "text": [
            "Mounted at /content/drive\n"
          ]
        }
      ]
    },
    {
      "cell_type": "code",
      "execution_count": null,
      "metadata": {
        "colab": {
          "base_uri": "https://localhost:8080/"
        },
        "id": "-X81Fc6EevNI",
        "outputId": "8ff89a79-14e3-48f2-9ded-3a09ef5d9c02"
      },
      "outputs": [
        {
          "output_type": "stream",
          "name": "stdout",
          "text": [
            "Conversion complete. CSV file saved at: /content/Cit-HepTh.csv\n"
          ]
        }
      ],
      "source": [
        "\n",
        "# Step 2: Define input and output file paths\n",
        "input_file_path = '/content/drive/MyDrive/Cit-HepTh.txt'  # Replace with your actual file path\n",
        "output_file_path = '/content/Cit-HepTh.csv'\n",
        "\n",
        "# Step 3: Process the .txt file and save it as a .csv file\n",
        "import csv\n",
        "\n",
        "with open(input_file_path, 'r') as txtfile, open(output_file_path, 'w', newline='') as csvfile:\n",
        "    writer = csv.writer(csvfile)\n",
        "    writer.writerow(['FromNodeId', 'ToNodeId'])  # Write the header\n",
        "\n",
        "    for line in txtfile:\n",
        "        # Skip comment lines (starting with #)\n",
        "        if line.startswith('#'):\n",
        "            continue\n",
        "        # Split line into two columns\n",
        "        from_node, to_node = line.strip().split()\n",
        "        writer.writerow([from_node, to_node])\n",
        "\n",
        "print(\"Conversion complete. CSV file saved at:\", output_file_path)\n"
      ]
    },
    {
      "cell_type": "code",
      "source": [
        "from google.colab import drive\n",
        "import os\n",
        "import re\n",
        "import pandas as pd\n",
        "\n",
        "# Mount the Google Drive\n",
        "drive.mount('/content/drive')\n",
        "\n",
        "# Define the base directory for your folders with .abs files\n",
        "base_dir = '/content/drive/MyDrive/1999'\n",
        "\n",
        "# Initialize an empty list to store extracted data\n",
        "data = []\n",
        "\n",
        "# Traverse through all files in the base directory\n",
        "for root, dirs, files in os.walk(base_dir):\n",
        "    for file in files:\n",
        "        if file.endswith(\".abs\"):\n",
        "            file_path = os.path.join(root, file)\n",
        "\n",
        "            # Read the .abs file\n",
        "            with open(file_path, 'r', encoding='utf-8') as f:\n",
        "                content = f.read()\n",
        "\n",
        "                # Extract the ID using regular expressions (number after 'hep-th/')\n",
        "                id_match = re.search(r\"Paper: hep-th/(\\d+)\", content)\n",
        "                paper_id = id_match.group(1) if id_match else None\n",
        "\n",
        "                # Extract the title\n",
        "                title_match = re.search(r\"Title: (.+)\", content)\n",
        "                title = title_match.group(1).strip() if title_match else None\n",
        "\n",
        "                # Extract the author(s) as a single string\n",
        "                author_match = re.search(r\"Authors?: (.+)\", content)\n",
        "                authors = author_match.group(1).strip() if author_match else None\n",
        "\n",
        "                # Append the data with the authors as they are\n",
        "                data.append({\n",
        "                    'id': paper_id,\n",
        "                    'author': authors,\n",
        "                    'title': title\n",
        "                })\n",
        "\n",
        "# Create a DataFrame from the extracted data\n",
        "df = pd.DataFrame(data, columns=['id', 'author', 'title'])\n",
        "\n",
        "# Save the DataFrame to a CSV file in your Drive\n",
        "output_path = '/content/physics_papers_normalized.csv'\n",
        "df.to_csv(output_path, index=False)\n",
        "\n",
        "print(f\"Normalized CSV file saved to: {output_path}\")\n",
        "\n",
        "\n"
      ],
      "metadata": {
        "colab": {
          "base_uri": "https://localhost:8080/"
        },
        "id": "3CEuGa4P3riP",
        "outputId": "0ff311ab-43a9-45ac-818b-ef2a270ee21d"
      },
      "execution_count": null,
      "outputs": [
        {
          "output_type": "stream",
          "name": "stdout",
          "text": [
            "Drive already mounted at /content/drive; to attempt to forcibly remount, call drive.mount(\"/content/drive\", force_remount=True).\n",
            "Normalized CSV file saved to: /content/physics_papers_normalized.csv\n"
          ]
        }
      ]
    }
  ]
}